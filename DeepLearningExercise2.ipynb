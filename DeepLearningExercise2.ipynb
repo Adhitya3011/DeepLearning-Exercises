{
  "nbformat": 4,
  "nbformat_minor": 0,
  "metadata": {
    "colab": {
      "name": "MAT494_Q4_1910110025",
      "provenance": []
    },
    "kernelspec": {
      "name": "python3",
      "display_name": "Python 3"
    },
    "language_info": {
      "name": "python"
    }
  },
  "cells": [
    {
      "cell_type": "markdown",
      "source": [
        "**MAT494 Assignment**\n",
        "\n",
        "Adhitya Swaminathan - 1910110025\n",
        "\n",
        "**Question 4**"
      ],
      "metadata": {
        "id": "yF3VlNM7j7dh"
      }
    },
    {
      "cell_type": "code",
      "execution_count": 14,
      "metadata": {
        "id": "OU8aielMj1H2"
      },
      "outputs": [],
      "source": [
        "#importing required datasets\n",
        "import numpy as np\n",
        "import pandas as pd\n",
        "import matplotlib.pyplot as plt\n",
        "#!pip install neupy\n",
        "from neupy.algorithms import GRNN\n",
        "from sklearn import metrics\n",
        "from sklearn.preprocessing import scale\n",
        "from sklearn.model_selection import train_test_split"
      ]
    },
    {
      "cell_type": "code",
      "source": [
        "#loading dataset\n",
        "df = pd.read_csv('bodyfat.csv',index_col=0)\n",
        "df"
      ],
      "metadata": {
        "colab": {
          "base_uri": "https://localhost:8080/",
          "height": 424
        },
        "id": "LiMA8p8Wkn0c",
        "outputId": "771188bc-a134-4a65-c2a7-d7de458a0f2e"
      },
      "execution_count": 3,
      "outputs": [
        {
          "output_type": "execute_result",
          "data": {
            "text/html": [
              "<div>\n",
              "<style scoped>\n",
              "    .dataframe tbody tr th:only-of-type {\n",
              "        vertical-align: middle;\n",
              "    }\n",
              "\n",
              "    .dataframe tbody tr th {\n",
              "        vertical-align: top;\n",
              "    }\n",
              "\n",
              "    .dataframe thead th {\n",
              "        text-align: right;\n",
              "    }\n",
              "</style>\n",
              "<table border=\"1\" class=\"dataframe\">\n",
              "  <thead>\n",
              "    <tr style=\"text-align: right;\">\n",
              "      <th></th>\n",
              "      <th>age</th>\n",
              "      <th>DEXfat</th>\n",
              "      <th>waistcirc</th>\n",
              "      <th>hipcirc</th>\n",
              "      <th>elbowbreadth</th>\n",
              "      <th>kneebreadth</th>\n",
              "      <th>anthro3a</th>\n",
              "      <th>anthro3b</th>\n",
              "      <th>anthro3c</th>\n",
              "      <th>anthro4</th>\n",
              "    </tr>\n",
              "  </thead>\n",
              "  <tbody>\n",
              "    <tr>\n",
              "      <th>47</th>\n",
              "      <td>57</td>\n",
              "      <td>41.68</td>\n",
              "      <td>100.0</td>\n",
              "      <td>112.0</td>\n",
              "      <td>7.1</td>\n",
              "      <td>9.4</td>\n",
              "      <td>4.42</td>\n",
              "      <td>4.95</td>\n",
              "      <td>4.50</td>\n",
              "      <td>6.13</td>\n",
              "    </tr>\n",
              "    <tr>\n",
              "      <th>48</th>\n",
              "      <td>65</td>\n",
              "      <td>43.29</td>\n",
              "      <td>99.5</td>\n",
              "      <td>116.5</td>\n",
              "      <td>6.5</td>\n",
              "      <td>8.9</td>\n",
              "      <td>4.63</td>\n",
              "      <td>5.01</td>\n",
              "      <td>4.48</td>\n",
              "      <td>6.37</td>\n",
              "    </tr>\n",
              "    <tr>\n",
              "      <th>49</th>\n",
              "      <td>59</td>\n",
              "      <td>35.41</td>\n",
              "      <td>96.0</td>\n",
              "      <td>108.5</td>\n",
              "      <td>6.2</td>\n",
              "      <td>8.9</td>\n",
              "      <td>4.12</td>\n",
              "      <td>4.74</td>\n",
              "      <td>4.60</td>\n",
              "      <td>5.82</td>\n",
              "    </tr>\n",
              "    <tr>\n",
              "      <th>50</th>\n",
              "      <td>58</td>\n",
              "      <td>22.79</td>\n",
              "      <td>72.0</td>\n",
              "      <td>96.5</td>\n",
              "      <td>6.1</td>\n",
              "      <td>9.2</td>\n",
              "      <td>4.03</td>\n",
              "      <td>4.48</td>\n",
              "      <td>3.91</td>\n",
              "      <td>5.66</td>\n",
              "    </tr>\n",
              "    <tr>\n",
              "      <th>51</th>\n",
              "      <td>60</td>\n",
              "      <td>36.42</td>\n",
              "      <td>89.5</td>\n",
              "      <td>100.5</td>\n",
              "      <td>7.1</td>\n",
              "      <td>10.0</td>\n",
              "      <td>4.24</td>\n",
              "      <td>4.68</td>\n",
              "      <td>4.15</td>\n",
              "      <td>5.91</td>\n",
              "    </tr>\n",
              "    <tr>\n",
              "      <th>...</th>\n",
              "      <td>...</td>\n",
              "      <td>...</td>\n",
              "      <td>...</td>\n",
              "      <td>...</td>\n",
              "      <td>...</td>\n",
              "      <td>...</td>\n",
              "      <td>...</td>\n",
              "      <td>...</td>\n",
              "      <td>...</td>\n",
              "      <td>...</td>\n",
              "    </tr>\n",
              "    <tr>\n",
              "      <th>113</th>\n",
              "      <td>53</td>\n",
              "      <td>11.21</td>\n",
              "      <td>66.6</td>\n",
              "      <td>92.2</td>\n",
              "      <td>6.1</td>\n",
              "      <td>8.5</td>\n",
              "      <td>2.40</td>\n",
              "      <td>2.58</td>\n",
              "      <td>2.05</td>\n",
              "      <td>3.18</td>\n",
              "    </tr>\n",
              "    <tr>\n",
              "      <th>114</th>\n",
              "      <td>31</td>\n",
              "      <td>14.18</td>\n",
              "      <td>69.7</td>\n",
              "      <td>93.2</td>\n",
              "      <td>6.2</td>\n",
              "      <td>8.1</td>\n",
              "      <td>3.10</td>\n",
              "      <td>3.36</td>\n",
              "      <td>2.76</td>\n",
              "      <td>4.14</td>\n",
              "    </tr>\n",
              "    <tr>\n",
              "      <th>115</th>\n",
              "      <td>27</td>\n",
              "      <td>20.84</td>\n",
              "      <td>66.5</td>\n",
              "      <td>100.0</td>\n",
              "      <td>6.5</td>\n",
              "      <td>8.5</td>\n",
              "      <td>3.50</td>\n",
              "      <td>4.14</td>\n",
              "      <td>3.76</td>\n",
              "      <td>5.04</td>\n",
              "    </tr>\n",
              "    <tr>\n",
              "      <th>116</th>\n",
              "      <td>52</td>\n",
              "      <td>19.00</td>\n",
              "      <td>76.5</td>\n",
              "      <td>103.0</td>\n",
              "      <td>7.4</td>\n",
              "      <td>8.5</td>\n",
              "      <td>3.33</td>\n",
              "      <td>3.73</td>\n",
              "      <td>3.21</td>\n",
              "      <td>4.64</td>\n",
              "    </tr>\n",
              "    <tr>\n",
              "      <th>117</th>\n",
              "      <td>59</td>\n",
              "      <td>18.07</td>\n",
              "      <td>71.0</td>\n",
              "      <td>88.3</td>\n",
              "      <td>5.7</td>\n",
              "      <td>8.9</td>\n",
              "      <td>3.48</td>\n",
              "      <td>4.13</td>\n",
              "      <td>3.45</td>\n",
              "      <td>5.03</td>\n",
              "    </tr>\n",
              "  </tbody>\n",
              "</table>\n",
              "<p>71 rows × 10 columns</p>\n",
              "</div>"
            ],
            "text/plain": [
              "     age  DEXfat  waistcirc  hipcirc  ...  anthro3a  anthro3b  anthro3c  anthro4\n",
              "47    57   41.68      100.0    112.0  ...      4.42      4.95      4.50     6.13\n",
              "48    65   43.29       99.5    116.5  ...      4.63      5.01      4.48     6.37\n",
              "49    59   35.41       96.0    108.5  ...      4.12      4.74      4.60     5.82\n",
              "50    58   22.79       72.0     96.5  ...      4.03      4.48      3.91     5.66\n",
              "51    60   36.42       89.5    100.5  ...      4.24      4.68      4.15     5.91\n",
              "..   ...     ...        ...      ...  ...       ...       ...       ...      ...\n",
              "113   53   11.21       66.6     92.2  ...      2.40      2.58      2.05     3.18\n",
              "114   31   14.18       69.7     93.2  ...      3.10      3.36      2.76     4.14\n",
              "115   27   20.84       66.5    100.0  ...      3.50      4.14      3.76     5.04\n",
              "116   52   19.00       76.5    103.0  ...      3.33      3.73      3.21     4.64\n",
              "117   59   18.07       71.0     88.3  ...      3.48      4.13      3.45     5.03\n",
              "\n",
              "[71 rows x 10 columns]"
            ]
          },
          "metadata": {},
          "execution_count": 3
        }
      ]
    },
    {
      "cell_type": "code",
      "source": [
        "#missing values check\n",
        "df.isnull().sum()"
      ],
      "metadata": {
        "colab": {
          "base_uri": "https://localhost:8080/"
        },
        "id": "m1QJWM-BlIOu",
        "outputId": "6edf5988-220c-4e94-96bb-bee8f4eb29bf"
      },
      "execution_count": 15,
      "outputs": [
        {
          "output_type": "execute_result",
          "data": {
            "text/plain": [
              "age             0\n",
              "DEXfat          0\n",
              "waistcirc       0\n",
              "hipcirc         0\n",
              "elbowbreadth    0\n",
              "kneebreadth     0\n",
              "anthro3a        0\n",
              "anthro3b        0\n",
              "anthro3c        0\n",
              "anthro4         0\n",
              "dtype: int64"
            ]
          },
          "metadata": {},
          "execution_count": 15
        }
      ]
    },
    {
      "cell_type": "code",
      "source": [
        "#scaling and splitting \n",
        "df = pd.DataFrame(scale(df),columns = df.columns, index = df.index)\n",
        "Y = df.DEXfat\n",
        "X = df.drop(columns=['DEXfat'])\n",
        "X_train, X_test, Y_train, Y_test =  train_test_split(X,Y, train_size=45, random_state=123)\n",
        "\n",
        "#GRNN with std 2.5\n",
        "grnn = GRNN(std=2.5, verbose=True)\n",
        "grnn.train(X_train,Y_train)\n",
        "\n",
        "#function which evaluates GRNN\n",
        "def fit_eval(Y_test,Y_pred,verbose=True):\n",
        "    array = np.array([\n",
        "        metrics.mean_squared_error(Y_test,Y_pred),\n",
        "        metrics.mean_absolute_error(Y_test,Y_pred),\n",
        "        metrics.max_error(Y_test,Y_pred),\n",
        "        metrics.explained_variance_score(Y_test,Y_pred),\n",
        "        metrics.r2_score(Y_test,Y_pred)\n",
        "        ])\n",
        "    if verbose:\n",
        "        print('Evaluation: ')\n",
        "        print(f'Mean Squared Error : {array[0]}')\n",
        "        print(f'Mean Absolute Error : {array[1]}')\n",
        "        print(f'Max Error : {array[2]}')\n",
        "        print(f'Explained Variance Score: {array[4]}')\n",
        "        print(f'R sq Score: {array[3]}')\n",
        "    return(array)"
      ],
      "metadata": {
        "colab": {
          "base_uri": "https://localhost:8080/"
        },
        "id": "EIAmdLBElOeE",
        "outputId": "38ff940c-0362-4102-98cd-a1d23dc7b8dd"
      },
      "execution_count": 16,
      "outputs": [
        {
          "output_type": "stream",
          "name": "stdout",
          "text": [
            "\n",
            "Main information\n",
            "\n",
            "[ALGORITHM] GRNN\n",
            "\r\n",
            "[OPTION] std = 2.5\n",
            "[OPTION] verbose = True\n",
            "\r\n"
          ]
        }
      ]
    },
    {
      "cell_type": "code",
      "source": [
        "Y_pred = grnn.predict(X_test).reshape(len(X_test))\n",
        "m1 = fit_eval(Y_test, Y_pred)"
      ],
      "metadata": {
        "colab": {
          "base_uri": "https://localhost:8080/"
        },
        "id": "FzBCXLG3mpqw",
        "outputId": "c71fc8d8-de61-488c-cabb-b418cf7c3b62"
      },
      "execution_count": 17,
      "outputs": [
        {
          "output_type": "stream",
          "name": "stdout",
          "text": [
            "Evaluation: \n",
            "Mean Squared Error : 0.2552921638783402\n",
            "Mean Absolute Error : 0.3624213781214852\n",
            "Max Error : 1.7969325133038057\n",
            "Explained Variance Score: 0.7816866538396456\n",
            "R sq Score: 0.7883838304468639\n"
          ]
        }
      ]
    },
    {
      "cell_type": "code",
      "source": [
        "#smoothing param = 0.1\n",
        "grnn = GRNN(std=0.1, verbose=True)\n",
        "grnn.train(X_train,Y_train)\n",
        "Y_pred = grnn.predict(X_test).reshape(len(X_test))\n",
        "m2 = fit_eval(Y_test,Y_pred)"
      ],
      "metadata": {
        "colab": {
          "base_uri": "https://localhost:8080/"
        },
        "id": "jM6k0zZzm-Y1",
        "outputId": "24daf876-a4d7-4264-e9d1-7c75cf993704"
      },
      "execution_count": 18,
      "outputs": [
        {
          "output_type": "stream",
          "name": "stdout",
          "text": [
            "\n",
            "Main information\n",
            "\n",
            "[ALGORITHM] GRNN\n",
            "\r\n",
            "[OPTION] std = 0.1\n",
            "[OPTION] verbose = True\n",
            "\r\n",
            "Evaluation: \n",
            "Mean Squared Error : 0.1802392015733578\n",
            "Mean Absolute Error : 0.31596736778117684\n",
            "Max Error : 1.4063283763392072\n",
            "Explained Variance Score: 0.8458682687044715\n",
            "R sq Score: 0.8458695843680027\n"
          ]
        }
      ]
    },
    {
      "cell_type": "code",
      "source": [
        "#smoothing param = 4\n",
        "grnn = GRNN(std=4.0, verbose=True)\n",
        "grnn.train(X_train,Y_train)\n",
        "Y_pred = grnn.predict(X_test).reshape(len(X_test))\n",
        "m3 = fit_eval(Y_test,Y_pred)"
      ],
      "metadata": {
        "colab": {
          "base_uri": "https://localhost:8080/"
        },
        "id": "HVo7DSzgnZgB",
        "outputId": "47d6e738-c719-4c1b-82b7-b36437e4041c"
      },
      "execution_count": 19,
      "outputs": [
        {
          "output_type": "stream",
          "name": "stdout",
          "text": [
            "\n",
            "Main information\n",
            "\n",
            "[ALGORITHM] GRNN\n",
            "\r\n",
            "[OPTION] std = 4.0\n",
            "[OPTION] verbose = True\n",
            "\r\n",
            "Evaluation: \n",
            "Mean Squared Error : 0.5080437648399131\n",
            "Mean Absolute Error : 0.562577695488586\n",
            "Max Error : 2.1588795202062006\n",
            "Explained Variance Score: 0.5655458725675526\n",
            "R sq Score: 0.5786611198363409\n"
          ]
        }
      ]
    },
    {
      "cell_type": "markdown",
      "source": [
        "From the evaluations of GRNN with different smoothing parameter, we can see that model with std = 0.1 has higher R2 score and lower MSE and hence is the better model."
      ],
      "metadata": {
        "id": "CaIiENnonyE7"
      }
    },
    {
      "cell_type": "code",
      "source": [
        "#Using 'waistcirc', 'hipcirc', 'elbowbreadth' and 'kneebreadth' as independent variables\n",
        "X = X[['waistcirc', 'hipcirc', 'elbowbreadth', 'kneebreadth']]\n",
        "X_train, X_test, Y_train, Y_test =  train_test_split(X,Y, train_size=45, random_state=124)\n",
        "\n",
        "#GRNN with Std 2.5\n",
        "grnn = GRNN(std=2.5, verbose=True)\n",
        "grnn.train(X_train,Y_train)\n",
        "Y_pred = grnn.predict(X_test).reshape(len(X_test))\n",
        "m4 = fit_eval(Y_test,Y_pred)"
      ],
      "metadata": {
        "colab": {
          "base_uri": "https://localhost:8080/"
        },
        "id": "EPh4XvKioUQN",
        "outputId": "e34202b5-76b9-4fc7-aab7-b716b85bad7f"
      },
      "execution_count": 20,
      "outputs": [
        {
          "output_type": "stream",
          "name": "stdout",
          "text": [
            "\n",
            "Main information\n",
            "\n",
            "[ALGORITHM] GRNN\n",
            "\r\n",
            "[OPTION] std = 2.5\n",
            "[OPTION] verbose = True\n",
            "\r\n",
            "Evaluation: \n",
            "Mean Squared Error : 0.33673277716925926\n",
            "Mean Absolute Error : 0.4129047401501468\n",
            "Max Error : 1.6445638544429853\n",
            "Explained Variance Score: 0.6466705565612112\n",
            "R sq Score: 0.677109952796545\n"
          ]
        }
      ]
    },
    {
      "cell_type": "code",
      "source": [
        "#GRNN with std 0.5\n",
        "grnn = GRNN(std=0.5, verbose=True)\n",
        "grnn.train(X_train,Y_train)\n",
        "Y_pred = grnn.predict(X_test).reshape(len(X_test))\n",
        "m5 = fit_eval(Y_test,Y_pred)"
      ],
      "metadata": {
        "colab": {
          "base_uri": "https://localhost:8080/"
        },
        "id": "wXcl0l-tpBBe",
        "outputId": "a54087b9-dc89-4820-ec49-4beea715107f"
      },
      "execution_count": 21,
      "outputs": [
        {
          "output_type": "stream",
          "name": "stdout",
          "text": [
            "\n",
            "Main information\n",
            "\n",
            "[ALGORITHM] GRNN\n",
            "\r\n",
            "[OPTION] std = 0.5\n",
            "[OPTION] verbose = True\n",
            "\r\n",
            "Evaluation: \n",
            "Mean Squared Error : 0.17827077960496085\n",
            "Mean Absolute Error : 0.29257438571068717\n",
            "Max Error : 1.6315903344204663\n",
            "Explained Variance Score: 0.8129427260727915\n",
            "R sq Score: 0.8146017123767713\n"
          ]
        }
      ]
    },
    {
      "cell_type": "markdown",
      "source": [
        "Here, we can see that the model with smoothing param 0.5 has more R2 score and less MSE than the model with smooting param 2.5."
      ],
      "metadata": {
        "id": "1N1BPTWSpVGn"
      }
    }
  ]
}