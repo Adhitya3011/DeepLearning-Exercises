{
  "nbformat": 4,
  "nbformat_minor": 0,
  "metadata": {
    "colab": {
      "name": "AssignmentMAT494.ipynb",
      "provenance": [],
      "collapsed_sections": []
    },
    "kernelspec": {
      "name": "python3",
      "display_name": "Python 3"
    },
    "language_info": {
      "name": "python"
    }
  },
  "cells": [
    {
      "cell_type": "markdown",
      "source": [
        "**Deep Learning - MAT494** \n",
        "\n",
        "**Assignment**\n",
        "\n",
        "Adhitya Swaminathan -\n",
        "1910110025\n",
        "\n",
        "**Question 1 - GRNN**"
      ],
      "metadata": {
        "id": "hPesMmYfGelm"
      }
    },
    {
      "cell_type": "code",
      "execution_count": null,
      "metadata": {
        "id": "YHFNdnuXGFhM"
      },
      "outputs": [],
      "source": [
        "#importing required libraries\n",
        "import numpy as np\n",
        "import pandas as pd\n",
        "#!pip install neupy\n",
        "from neupy.algorithms import GRNN\n",
        "from sklearn.preprocessing import scale\n",
        "from sklearn.model_selection import train_test_split\n",
        "import matplotlib.pyplot as plt\n",
        "from scipy import stats\n",
        " \n"
      ]
    },
    {
      "cell_type": "code",
      "source": [
        "df = pd.read_csv('bodyfat.csv',index_col=0)\n",
        "df"
      ],
      "metadata": {
        "colab": {
          "base_uri": "https://localhost:8080/",
          "height": 424
        },
        "id": "qD1UvboIG_99",
        "outputId": "c70f5164-e3b8-4eaa-a8cb-f91e5f4623e1"
      },
      "execution_count": null,
      "outputs": [
        {
          "output_type": "execute_result",
          "data": {
            "text/html": [
              "<div>\n",
              "<style scoped>\n",
              "    .dataframe tbody tr th:only-of-type {\n",
              "        vertical-align: middle;\n",
              "    }\n",
              "\n",
              "    .dataframe tbody tr th {\n",
              "        vertical-align: top;\n",
              "    }\n",
              "\n",
              "    .dataframe thead th {\n",
              "        text-align: right;\n",
              "    }\n",
              "</style>\n",
              "<table border=\"1\" class=\"dataframe\">\n",
              "  <thead>\n",
              "    <tr style=\"text-align: right;\">\n",
              "      <th></th>\n",
              "      <th>age</th>\n",
              "      <th>DEXfat</th>\n",
              "      <th>waistcirc</th>\n",
              "      <th>hipcirc</th>\n",
              "      <th>elbowbreadth</th>\n",
              "      <th>kneebreadth</th>\n",
              "      <th>anthro3a</th>\n",
              "      <th>anthro3b</th>\n",
              "      <th>anthro3c</th>\n",
              "      <th>anthro4</th>\n",
              "    </tr>\n",
              "  </thead>\n",
              "  <tbody>\n",
              "    <tr>\n",
              "      <th>47</th>\n",
              "      <td>57</td>\n",
              "      <td>41.68</td>\n",
              "      <td>100.0</td>\n",
              "      <td>112.0</td>\n",
              "      <td>7.1</td>\n",
              "      <td>9.4</td>\n",
              "      <td>4.42</td>\n",
              "      <td>4.95</td>\n",
              "      <td>4.50</td>\n",
              "      <td>6.13</td>\n",
              "    </tr>\n",
              "    <tr>\n",
              "      <th>48</th>\n",
              "      <td>65</td>\n",
              "      <td>43.29</td>\n",
              "      <td>99.5</td>\n",
              "      <td>116.5</td>\n",
              "      <td>6.5</td>\n",
              "      <td>8.9</td>\n",
              "      <td>4.63</td>\n",
              "      <td>5.01</td>\n",
              "      <td>4.48</td>\n",
              "      <td>6.37</td>\n",
              "    </tr>\n",
              "    <tr>\n",
              "      <th>49</th>\n",
              "      <td>59</td>\n",
              "      <td>35.41</td>\n",
              "      <td>96.0</td>\n",
              "      <td>108.5</td>\n",
              "      <td>6.2</td>\n",
              "      <td>8.9</td>\n",
              "      <td>4.12</td>\n",
              "      <td>4.74</td>\n",
              "      <td>4.60</td>\n",
              "      <td>5.82</td>\n",
              "    </tr>\n",
              "    <tr>\n",
              "      <th>50</th>\n",
              "      <td>58</td>\n",
              "      <td>22.79</td>\n",
              "      <td>72.0</td>\n",
              "      <td>96.5</td>\n",
              "      <td>6.1</td>\n",
              "      <td>9.2</td>\n",
              "      <td>4.03</td>\n",
              "      <td>4.48</td>\n",
              "      <td>3.91</td>\n",
              "      <td>5.66</td>\n",
              "    </tr>\n",
              "    <tr>\n",
              "      <th>51</th>\n",
              "      <td>60</td>\n",
              "      <td>36.42</td>\n",
              "      <td>89.5</td>\n",
              "      <td>100.5</td>\n",
              "      <td>7.1</td>\n",
              "      <td>10.0</td>\n",
              "      <td>4.24</td>\n",
              "      <td>4.68</td>\n",
              "      <td>4.15</td>\n",
              "      <td>5.91</td>\n",
              "    </tr>\n",
              "    <tr>\n",
              "      <th>...</th>\n",
              "      <td>...</td>\n",
              "      <td>...</td>\n",
              "      <td>...</td>\n",
              "      <td>...</td>\n",
              "      <td>...</td>\n",
              "      <td>...</td>\n",
              "      <td>...</td>\n",
              "      <td>...</td>\n",
              "      <td>...</td>\n",
              "      <td>...</td>\n",
              "    </tr>\n",
              "    <tr>\n",
              "      <th>113</th>\n",
              "      <td>53</td>\n",
              "      <td>11.21</td>\n",
              "      <td>66.6</td>\n",
              "      <td>92.2</td>\n",
              "      <td>6.1</td>\n",
              "      <td>8.5</td>\n",
              "      <td>2.40</td>\n",
              "      <td>2.58</td>\n",
              "      <td>2.05</td>\n",
              "      <td>3.18</td>\n",
              "    </tr>\n",
              "    <tr>\n",
              "      <th>114</th>\n",
              "      <td>31</td>\n",
              "      <td>14.18</td>\n",
              "      <td>69.7</td>\n",
              "      <td>93.2</td>\n",
              "      <td>6.2</td>\n",
              "      <td>8.1</td>\n",
              "      <td>3.10</td>\n",
              "      <td>3.36</td>\n",
              "      <td>2.76</td>\n",
              "      <td>4.14</td>\n",
              "    </tr>\n",
              "    <tr>\n",
              "      <th>115</th>\n",
              "      <td>27</td>\n",
              "      <td>20.84</td>\n",
              "      <td>66.5</td>\n",
              "      <td>100.0</td>\n",
              "      <td>6.5</td>\n",
              "      <td>8.5</td>\n",
              "      <td>3.50</td>\n",
              "      <td>4.14</td>\n",
              "      <td>3.76</td>\n",
              "      <td>5.04</td>\n",
              "    </tr>\n",
              "    <tr>\n",
              "      <th>116</th>\n",
              "      <td>52</td>\n",
              "      <td>19.00</td>\n",
              "      <td>76.5</td>\n",
              "      <td>103.0</td>\n",
              "      <td>7.4</td>\n",
              "      <td>8.5</td>\n",
              "      <td>3.33</td>\n",
              "      <td>3.73</td>\n",
              "      <td>3.21</td>\n",
              "      <td>4.64</td>\n",
              "    </tr>\n",
              "    <tr>\n",
              "      <th>117</th>\n",
              "      <td>59</td>\n",
              "      <td>18.07</td>\n",
              "      <td>71.0</td>\n",
              "      <td>88.3</td>\n",
              "      <td>5.7</td>\n",
              "      <td>8.9</td>\n",
              "      <td>3.48</td>\n",
              "      <td>4.13</td>\n",
              "      <td>3.45</td>\n",
              "      <td>5.03</td>\n",
              "    </tr>\n",
              "  </tbody>\n",
              "</table>\n",
              "<p>71 rows × 10 columns</p>\n",
              "</div>"
            ],
            "text/plain": [
              "     age  DEXfat  waistcirc  hipcirc  ...  anthro3a  anthro3b  anthro3c  anthro4\n",
              "47    57   41.68      100.0    112.0  ...      4.42      4.95      4.50     6.13\n",
              "48    65   43.29       99.5    116.5  ...      4.63      5.01      4.48     6.37\n",
              "49    59   35.41       96.0    108.5  ...      4.12      4.74      4.60     5.82\n",
              "50    58   22.79       72.0     96.5  ...      4.03      4.48      3.91     5.66\n",
              "51    60   36.42       89.5    100.5  ...      4.24      4.68      4.15     5.91\n",
              "..   ...     ...        ...      ...  ...       ...       ...       ...      ...\n",
              "113   53   11.21       66.6     92.2  ...      2.40      2.58      2.05     3.18\n",
              "114   31   14.18       69.7     93.2  ...      3.10      3.36      2.76     4.14\n",
              "115   27   20.84       66.5    100.0  ...      3.50      4.14      3.76     5.04\n",
              "116   52   19.00       76.5    103.0  ...      3.33      3.73      3.21     4.64\n",
              "117   59   18.07       71.0     88.3  ...      3.48      4.13      3.45     5.03\n",
              "\n",
              "[71 rows x 10 columns]"
            ]
          },
          "metadata": {},
          "execution_count": 8
        }
      ]
    },
    {
      "cell_type": "code",
      "source": [
        "#Scaling values and splitting into train and test set.\n",
        "df = pd.DataFrame(scale(df),columns = df.columns, index = df.index)\n",
        "Y = df.DEXfat\n",
        "X = df.drop(columns=['DEXfat'])\n",
        "X_train, X_test, Y_train, Y_test =  train_test_split(X,Y, train_size=45, random_state=15)\n",
        "\n",
        "#training grnn\n",
        "grnn = GRNN(std=2.5, verbose=True) \n",
        "grnn.train(X_train,Y_train)\n",
        "\n",
        "#getting prediction\n",
        "Y_pred = grnn.predict(X_test).reshape(len(X_test))\n",
        "mse = np.mean((Y_pred-Y_test)**2)\n",
        "print(f'Mean Sq Error: {mse}')"
      ],
      "metadata": {
        "colab": {
          "base_uri": "https://localhost:8080/"
        },
        "id": "5Av4K_E5b9yv",
        "outputId": "86c3d81f-3caa-456e-da86-12ddb9323666"
      },
      "execution_count": null,
      "outputs": [
        {
          "output_type": "stream",
          "name": "stdout",
          "text": [
            "\n",
            "Main information\n",
            "\n",
            "[ALGORITHM] GRNN\n",
            "\r\n",
            "[OPTION] std = 2.5\n",
            "[OPTION] verbose = True\n",
            "\r\n",
            "Mean Sq Error: 0.21396861104005468\n"
          ]
        }
      ]
    },
    {
      "cell_type": "code",
      "source": [
        "#plot\n",
        "plt.scatter(Y_pred,Y_test)\n",
        "plt.xlabel('log( DEXfat )')\n",
        "plt.ylabel(' Predicted Values ')\n",
        "plt.title(' Test Sample Model Fit ')\n",
        "\n",
        "slope,intecept,r_value, p_value, std_err = stats.linregress(Y_pred,Y_test)\n",
        "plt.plot(Y_pred,slope*Y_pred+intecept, '-r', label=f'r_value = {r_value.round(3)}')\n",
        "plt.grid()\n",
        "plt.legend()\n",
        "plt.show()"
      ],
      "metadata": {
        "colab": {
          "base_uri": "https://localhost:8080/",
          "height": 295
        },
        "id": "ev0IDaUUdqQB",
        "outputId": "7290f1d5-62fc-4642-a11f-28195d022bb7"
      },
      "execution_count": null,
      "outputs": [
        {
          "output_type": "display_data",
          "data": {
            "image/png": "[encoded data removed]",
            "text/plain": [
              "<Figure size 432x288 with 1 Axes>"
            ]
          },
          "metadata": {
            "needs_background": "light"
          }
        }
      ]
    },
    {
      "cell_type": "markdown",
      "source": [
        "**Question 1 - PNN**"
      ],
      "metadata": {
        "id": "KhvXablUd_c2"
      }
    },
    {
      "cell_type": "code",
      "source": [
        "#importing required libraries\n",
        "import numpy as np\n",
        "import pandas as pd\n",
        "from neupy.algorithms import PNN\n",
        "from sklearn.preprocessing import scale\n",
        "from sklearn.model_selection import train_test_split\n",
        "from sklearn import metrics\n",
        "import matplotlib.pyplot as plt\n"
      ],
      "metadata": {
        "id": "enoLrbnMeorE"
      },
      "execution_count": null,
      "outputs": []
    },
    {
      "cell_type": "code",
      "source": [
        "df = pd.read_csv(\"diabetes.csv\", index_col=0)\n",
        "df"
      ],
      "metadata": {
        "colab": {
          "base_uri": "https://localhost:8080/",
          "height": 424
        },
        "id": "JhvprJQKffKM",
        "outputId": "72cdaecf-acd7-41f2-a941-321bba7ca54e"
      },
      "execution_count": null,
      "outputs": [
        {
          "output_type": "execute_result",
          "data": {
            "text/html": [
              "<div>\n",
              "<style scoped>\n",
              "    .dataframe tbody tr th:only-of-type {\n",
              "        vertical-align: middle;\n",
              "    }\n",
              "\n",
              "    .dataframe tbody tr th {\n",
              "        vertical-align: top;\n",
              "    }\n",
              "\n",
              "    .dataframe thead th {\n",
              "        text-align: right;\n",
              "    }\n",
              "</style>\n",
              "<table border=\"1\" class=\"dataframe\">\n",
              "  <thead>\n",
              "    <tr style=\"text-align: right;\">\n",
              "      <th></th>\n",
              "      <th>pregnant</th>\n",
              "      <th>glucose</th>\n",
              "      <th>pressure</th>\n",
              "      <th>triceps</th>\n",
              "      <th>insulin</th>\n",
              "      <th>mass</th>\n",
              "      <th>pedigree</th>\n",
              "      <th>age</th>\n",
              "      <th>diabetes</th>\n",
              "    </tr>\n",
              "  </thead>\n",
              "  <tbody>\n",
              "    <tr>\n",
              "      <th>1</th>\n",
              "      <td>6</td>\n",
              "      <td>148.0</td>\n",
              "      <td>72.0</td>\n",
              "      <td>35.0</td>\n",
              "      <td>NaN</td>\n",
              "      <td>33.6</td>\n",
              "      <td>0.627</td>\n",
              "      <td>50</td>\n",
              "      <td>pos</td>\n",
              "    </tr>\n",
              "    <tr>\n",
              "      <th>2</th>\n",
              "      <td>1</td>\n",
              "      <td>85.0</td>\n",
              "      <td>66.0</td>\n",
              "      <td>29.0</td>\n",
              "      <td>NaN</td>\n",
              "      <td>26.6</td>\n",
              "      <td>0.351</td>\n",
              "      <td>31</td>\n",
              "      <td>neg</td>\n",
              "    </tr>\n",
              "    <tr>\n",
              "      <th>3</th>\n",
              "      <td>8</td>\n",
              "      <td>183.0</td>\n",
              "      <td>64.0</td>\n",
              "      <td>NaN</td>\n",
              "      <td>NaN</td>\n",
              "      <td>23.3</td>\n",
              "      <td>0.672</td>\n",
              "      <td>32</td>\n",
              "      <td>pos</td>\n",
              "    </tr>\n",
              "    <tr>\n",
              "      <th>4</th>\n",
              "      <td>1</td>\n",
              "      <td>89.0</td>\n",
              "      <td>66.0</td>\n",
              "      <td>23.0</td>\n",
              "      <td>94.0</td>\n",
              "      <td>28.1</td>\n",
              "      <td>0.167</td>\n",
              "      <td>21</td>\n",
              "      <td>neg</td>\n",
              "    </tr>\n",
              "    <tr>\n",
              "      <th>5</th>\n",
              "      <td>0</td>\n",
              "      <td>137.0</td>\n",
              "      <td>40.0</td>\n",
              "      <td>35.0</td>\n",
              "      <td>168.0</td>\n",
              "      <td>43.1</td>\n",
              "      <td>2.288</td>\n",
              "      <td>33</td>\n",
              "      <td>pos</td>\n",
              "    </tr>\n",
              "    <tr>\n",
              "      <th>...</th>\n",
              "      <td>...</td>\n",
              "      <td>...</td>\n",
              "      <td>...</td>\n",
              "      <td>...</td>\n",
              "      <td>...</td>\n",
              "      <td>...</td>\n",
              "      <td>...</td>\n",
              "      <td>...</td>\n",
              "      <td>...</td>\n",
              "    </tr>\n",
              "    <tr>\n",
              "      <th>764</th>\n",
              "      <td>10</td>\n",
              "      <td>101.0</td>\n",
              "      <td>76.0</td>\n",
              "      <td>48.0</td>\n",
              "      <td>180.0</td>\n",
              "      <td>32.9</td>\n",
              "      <td>0.171</td>\n",
              "      <td>63</td>\n",
              "      <td>neg</td>\n",
              "    </tr>\n",
              "    <tr>\n",
              "      <th>765</th>\n",
              "      <td>2</td>\n",
              "      <td>122.0</td>\n",
              "      <td>70.0</td>\n",
              "      <td>27.0</td>\n",
              "      <td>NaN</td>\n",
              "      <td>36.8</td>\n",
              "      <td>0.340</td>\n",
              "      <td>27</td>\n",
              "      <td>neg</td>\n",
              "    </tr>\n",
              "    <tr>\n",
              "      <th>766</th>\n",
              "      <td>5</td>\n",
              "      <td>121.0</td>\n",
              "      <td>72.0</td>\n",
              "      <td>23.0</td>\n",
              "      <td>112.0</td>\n",
              "      <td>26.2</td>\n",
              "      <td>0.245</td>\n",
              "      <td>30</td>\n",
              "      <td>neg</td>\n",
              "    </tr>\n",
              "    <tr>\n",
              "      <th>767</th>\n",
              "      <td>1</td>\n",
              "      <td>126.0</td>\n",
              "      <td>60.0</td>\n",
              "      <td>NaN</td>\n",
              "      <td>NaN</td>\n",
              "      <td>30.1</td>\n",
              "      <td>0.349</td>\n",
              "      <td>47</td>\n",
              "      <td>pos</td>\n",
              "    </tr>\n",
              "    <tr>\n",
              "      <th>768</th>\n",
              "      <td>1</td>\n",
              "      <td>93.0</td>\n",
              "      <td>70.0</td>\n",
              "      <td>31.0</td>\n",
              "      <td>NaN</td>\n",
              "      <td>30.4</td>\n",
              "      <td>0.315</td>\n",
              "      <td>23</td>\n",
              "      <td>neg</td>\n",
              "    </tr>\n",
              "  </tbody>\n",
              "</table>\n",
              "<p>768 rows × 9 columns</p>\n",
              "</div>"
            ],
            "text/plain": [
              "     pregnant  glucose  pressure  triceps  ...  mass  pedigree  age  diabetes\n",
              "1           6    148.0      72.0     35.0  ...  33.6     0.627   50       pos\n",
              "2           1     85.0      66.0     29.0  ...  26.6     0.351   31       neg\n",
              "3           8    183.0      64.0      NaN  ...  23.3     0.672   32       pos\n",
              "4           1     89.0      66.0     23.0  ...  28.1     0.167   21       neg\n",
              "5           0    137.0      40.0     35.0  ...  43.1     2.288   33       pos\n",
              "..        ...      ...       ...      ...  ...   ...       ...  ...       ...\n",
              "764        10    101.0      76.0     48.0  ...  32.9     0.171   63       neg\n",
              "765         2    122.0      70.0     27.0  ...  36.8     0.340   27       neg\n",
              "766         5    121.0      72.0     23.0  ...  26.2     0.245   30       neg\n",
              "767         1    126.0      60.0      NaN  ...  30.1     0.349   47       pos\n",
              "768         1     93.0      70.0     31.0  ...  30.4     0.315   23       neg\n",
              "\n",
              "[768 rows x 9 columns]"
            ]
          },
          "metadata": {},
          "execution_count": 20
        }
      ]
    },
    {
      "cell_type": "code",
      "source": [
        "#cleaning the dataset(removing null rows and columns)\n",
        "print(\"No of Null valued entries\")\n",
        "df.isnull().sum()\n",
        "df.drop(columns=['insulin','triceps'],inplace=True)\n",
        "df.dropna(inplace=True)\n",
        "df.isnull().sum()"
      ],
      "metadata": {
        "colab": {
          "base_uri": "https://localhost:8080/"
        },
        "id": "XzieHS9fg3k4",
        "outputId": "db756860-e002-431f-a23f-5e02ac05d9f0"
      },
      "execution_count": null,
      "outputs": [
        {
          "output_type": "stream",
          "name": "stdout",
          "text": [
            "No of Null valued entries\n"
          ]
        },
        {
          "output_type": "execute_result",
          "data": {
            "text/plain": [
              "pregnant    0\n",
              "glucose     0\n",
              "pressure    0\n",
              "mass        0\n",
              "pedigree    0\n",
              "age         0\n",
              "diabetes    0\n",
              "dtype: int64"
            ]
          },
          "metadata": {},
          "execution_count": 21
        }
      ]
    },
    {
      "cell_type": "code",
      "source": [
        "#sperating and scaling the values\n",
        "Y = df.diabetes\n",
        "X = df.drop(columns=['diabetes'])\n",
        "X = pd.DataFrame(scale(X),columns = X.columns, index = X.index)\n",
        "\n",
        "#converting positive and negative into 1 and 0 respectively\n",
        "cat_type = pd.CategoricalDtype(categories=['neg','pos'],ordered=True)\n",
        "Y = Y.astype(cat_type).cat.codes\n",
        "\n",
        "#converting to train and test\n",
        "df = pd.concat([X,Y],axis=1)\n",
        "X_train, X_test, Y_train, Y_test =  train_test_split(X,Y, train_size=600, random_state=13)\n",
        "\n",
        "#training PNN\n",
        "pnn = PNN(std = 0.5, verbose=True, batch_size=None) \n",
        "pnn.train(X_train,Y_train)\n",
        "\n",
        "#Accuracy \n",
        "Y_pred = pnn.predict(X_test)\n",
        "print('Accuracy', metrics.accuracy_score(Y_test,Y_pred))\n"
      ],
      "metadata": {
        "colab": {
          "base_uri": "https://localhost:8080/"
        },
        "id": "8jUfrKvyhUJP",
        "outputId": "a2837fdd-cccb-48b3-894d-6b33ba4e10bf"
      },
      "execution_count": null,
      "outputs": [
        {
          "output_type": "stream",
          "name": "stdout",
          "text": [
            "\n",
            "Main information\n",
            "\n",
            "[ALGORITHM] PNN\n",
            "\r\n",
            "[OPTION] batch_size = None\n",
            "[OPTION] std = 0.5\n",
            "[OPTION] verbose = True\n",
            "\r\n",
            "Accuracy 0.717741935483871\n"
          ]
        },
        {
          "output_type": "stream",
          "name": "stderr",
          "text": [
            "\r                                                                               \r"
          ]
        }
      ]
    },
    {
      "cell_type": "code",
      "source": [
        "#some other sigma values\n",
        "#std = 1\n",
        "pnn = PNN(std = 1.0, verbose=True)\n",
        "pnn.train(X_train,Y_train)\n",
        "Y_pred = pnn.predict(X_test)\n",
        "print(metrics.classification_report(Y_test,Y_pred))"
      ],
      "metadata": {
        "colab": {
          "base_uri": "https://localhost:8080/"
        },
        "id": "f_nyJmzqkZE_",
        "outputId": "72e42e66-7bd8-4781-96ec-9aaa528feb84"
      },
      "execution_count": null,
      "outputs": [
        {
          "output_type": "stream",
          "name": "stdout",
          "text": [
            "\n",
            "Main information\n",
            "\n",
            "[ALGORITHM] PNN\n",
            "\r\n",
            "[OPTION] batch_size = 128\n",
            "[OPTION] std = 1.0\n",
            "[OPTION] verbose = True\n",
            "\r\n",
            "              precision    recall  f1-score   support\n",
            "\n",
            "           0       0.85      0.75      0.80        84\n",
            "           1       0.58      0.72      0.64        40\n",
            "\n",
            "    accuracy                           0.74       124\n",
            "   macro avg       0.72      0.74      0.72       124\n",
            "weighted avg       0.76      0.74      0.75       124\n",
            "\n"
          ]
        },
        {
          "output_type": "stream",
          "name": "stderr",
          "text": [
            "\r                                                                               \r"
          ]
        }
      ]
    },
    {
      "cell_type": "code",
      "source": [
        "#std = 1.5\n",
        "pnn = PNN(std = 1.5, verbose=True)\n",
        "pnn.train(X_train,Y_train)\n",
        "Y_pred = pnn.predict(X_test)\n",
        "print(metrics.classification_report(Y_test,Y_pred))"
      ],
      "metadata": {
        "colab": {
          "base_uri": "https://localhost:8080/"
        },
        "id": "Z1RKcxuXkiA3",
        "outputId": "3f5236fb-1f71-4db6-91e9-8a3aeafeb5bf"
      },
      "execution_count": null,
      "outputs": [
        {
          "output_type": "stream",
          "name": "stdout",
          "text": [
            "\n",
            "Main information\n",
            "\n",
            "[ALGORITHM] PNN\n",
            "\r\n",
            "[OPTION] batch_size = 128\n",
            "[OPTION] std = 1.5\n",
            "[OPTION] verbose = True\n",
            "\r\n",
            "              precision    recall  f1-score   support\n",
            "\n",
            "           0       0.88      0.77      0.82        84\n",
            "           1       0.62      0.78      0.69        40\n",
            "\n",
            "    accuracy                           0.77       124\n",
            "   macro avg       0.75      0.77      0.76       124\n",
            "weighted avg       0.80      0.77      0.78       124\n",
            "\n"
          ]
        },
        {
          "output_type": "stream",
          "name": "stderr",
          "text": [
            "\r                                                                               \r"
          ]
        }
      ]
    },
    {
      "cell_type": "markdown",
      "source": [
        "**Question 2**"
      ],
      "metadata": {
        "id": "L41wx3SFkuoc"
      }
    },
    {
      "cell_type": "code",
      "source": [
        "#importing required libraries\n",
        "import numpy as np\n",
        "import pandas as pd\n",
        "import matplotlib.pyplot as plt\n",
        "import seaborn as sns\n",
        "from PIL import Image\n",
        "import tensorflow as tf\n",
        "from tensorflow.keras.models import Sequential\n",
        "from tensorflow.keras.layers import Dense\n",
        "from tensorflow.keras.layers import Conv2D, MaxPooling2D, Flatten, ZeroPadding2D, Dropout\n",
        "from tensorflow.keras.optimizers import Adam"
      ],
      "metadata": {
        "id": "tx4lQBsGkyjs"
      },
      "execution_count": null,
      "outputs": []
    },
    {
      "cell_type": "code",
      "source": [
        "#loading MNIST dataset\n",
        "(X_train,Y_train),(X_test,Y_test) = tf.keras.datasets.mnist.load_data()\n",
        "print(f'Image Size: {X_train[1].shape}')\n",
        "print(f'No of Training Images: {X_train.shape[0]}')\n",
        "print(f'No of Testing Images: {X_test.shape[0]}')"
      ],
      "metadata": {
        "colab": {
          "base_uri": "https://localhost:8080/"
        },
        "id": "XjqnXC0AoLLv",
        "outputId": "49b1f5c0-67e4-4e1e-ed36-41572f431ff5"
      },
      "execution_count": null,
      "outputs": [
        {
          "output_type": "stream",
          "name": "stdout",
          "text": [
            "Downloading data from https://storage.googleapis.com/tensorflow/tf-keras-datasets/mnist.npz\n",
            "11493376/11490434 [==============================] - 0s 0us/step\n",
            "Image Size: (28, 28)\n",
            "No of Training Images: 60000\n",
            "No of Testing Images: 10000\n"
          ]
        }
      ]
    },
    {
      "cell_type": "code",
      "source": [
        "#images from dataset\n",
        "n = 3\n",
        "fig, ax = plt.subplots(n,n,figsize=(10,10))\n",
        "for i in range(n):\n",
        "    for j in range(n):\n",
        "        img_ind = np.random.randint(0,len(X_train))\n",
        "        ax[i,j].imshow(X_train[img_ind],cmap='Greys')\n",
        "        ax[i,j].axis('off')\n",
        "        ax[i,j].set_title(f'Index: {img_ind} Y: {Y_train[img_ind]}')\n",
        "plt.show()"
      ],
      "metadata": {
        "colab": {
          "base_uri": "https://localhost:8080/",
          "height": 591
        },
        "id": "pUauxBCiokpo",
        "outputId": "27779213-3531-44d6-d44f-11733a04acb4"
      },
      "execution_count": null,
      "outputs": [
        {
          "output_type": "display_data",
          "data": {
            "image/png": "[encoded data removed]",
            "text/plain": [
              "<Figure size 720x720 with 9 Axes>"
            ]
          },
          "metadata": {
            "needs_background": "light"
          }
        }
      ]
    },
    {
      "cell_type": "code",
      "source": [
        "#Normalizing and one hot encoding\n",
        "X_train = X_train.astype('float32')\n",
        "X_test = X_test.astype('float32')\n",
        "X_train = X_train/255.0\n",
        "X_test = X_test/255.0\n",
        "Y_train = tf.keras.utils.to_categorical(Y_train)\n",
        "Y_test = tf.keras.utils.to_categorical(Y_test)\n",
        "X_train = X_train.reshape((X_train.shape[0],28,28,1))\n",
        "X_test = X_test.reshape((X_test.shape[0],28,28,1))\n",
        "\n",
        "#training model\n",
        "def build_model():\n",
        "    model = Sequential()\n",
        "\n",
        "    #First Conv Layer \n",
        "    model.add(Conv2D(filters=64, kernel_size=(3,3), padding = 'same', activation='relu', input_shape = (28, 28, 1)))\n",
        "    model.add(MaxPooling2D(pool_size=(2,2), strides=(2,2)))\n",
        "\n",
        "    #Second Conv Layer \n",
        "    model.add(Conv2D(filters = 128, kernel_size=(3,3), padding = 'same', activation='relu'))\n",
        "    model.add(MaxPooling2D(pool_size=(2,2), strides=(2,2)))\n",
        "\n",
        "    #Third Conv Layer \n",
        "    model.add(Conv2D(filters = 128, kernel_size=(3,3), padding = 'same', activation='relu'))\n",
        "    model.add(MaxPooling2D(pool_size=(2,2), strides=(2,2)))\n",
        "\n",
        "    #Fourth Conv Layer \n",
        "    model.add(Conv2D(filters = 128, kernel_size=(3,3), padding = 'same', activation='relu'))\n",
        "    model.add(MaxPooling2D(pool_size=(2,2), strides=(2,2)))\n",
        "\n",
        "    model.add(Flatten())\n",
        "\n",
        "    # Fully Connected Layer\n",
        "    model.add(Dense(units = 256, activation='relu'))\n",
        "    model.add(Dropout(0.5))\n",
        "\n",
        "    # Output Layer\n",
        "    model.add(Dense(units = 10, activation='softmax'))\n",
        "\n",
        "    model.compile( optimizer='adam', loss='categorical_crossentropy', metrics=['accuracy'])\n",
        "\n",
        "    return model\n",
        "\n",
        "model = build_model()\n",
        "model.summary()  "
      ],
      "metadata": {
        "colab": {
          "base_uri": "https://localhost:8080/"
        },
        "id": "-XIsjQEgpDJw",
        "outputId": "c92a3b09-9bde-41e8-bf40-22a507c3452b"
      },
      "execution_count": null,
      "outputs": [
        {
          "output_type": "stream",
          "name": "stdout",
          "text": [
            "WARNING:tensorflow:From /usr/local/lib/python3.7/dist-packages/tensorflow/python/ops/resource_variable_ops.py:435: colocate_with (from tensorflow.python.framework.ops) is deprecated and will be removed in a future version.\n",
            "Instructions for updating:\n",
            "Colocations handled automatically by placer.\n",
            "WARNING:tensorflow:From /usr/local/lib/python3.7/dist-packages/tensorflow/python/keras/layers/core.py:143: calling dropout (from tensorflow.python.ops.nn_ops) with keep_prob is deprecated and will be removed in a future version.\n",
            "Instructions for updating:\n",
            "Please use `rate` instead of `keep_prob`. Rate should be set to `rate = 1 - keep_prob`.\n",
            "_________________________________________________________________\n",
            "Layer (type)                 Output Shape              Param #   \n",
            "=================================================================\n",
            "conv2d (Conv2D)              (None, 28, 28, 64)        640       \n",
            "_________________________________________________________________\n",
            "max_pooling2d (MaxPooling2D) (None, 14, 14, 64)        0         \n",
            "_________________________________________________________________\n",
            "conv2d_1 (Conv2D)            (None, 14, 14, 128)       73856     \n",
            "_________________________________________________________________\n",
            "max_pooling2d_1 (MaxPooling2 (None, 7, 7, 128)         0         \n",
            "_________________________________________________________________\n",
            "conv2d_2 (Conv2D)            (None, 7, 7, 128)         147584    \n",
            "_________________________________________________________________\n",
            "max_pooling2d_2 (MaxPooling2 (None, 3, 3, 128)         0         \n",
            "_________________________________________________________________\n",
            "conv2d_3 (Conv2D)            (None, 3, 3, 128)         147584    \n",
            "_________________________________________________________________\n",
            "max_pooling2d_3 (MaxPooling2 (None, 1, 1, 128)         0         \n",
            "_________________________________________________________________\n",
            "flatten (Flatten)            (None, 128)               0         \n",
            "_________________________________________________________________\n",
            "dense (Dense)                (None, 256)               33024     \n",
            "_________________________________________________________________\n",
            "dropout (Dropout)            (None, 256)               0         \n",
            "_________________________________________________________________\n",
            "dense_1 (Dense)              (None, 10)                2570      \n",
            "=================================================================\n",
            "Total params: 405,258\n",
            "Trainable params: 405,258\n",
            "Non-trainable params: 0\n",
            "_________________________________________________________________\n"
          ]
        }
      ]
    },
    {
      "cell_type": "code",
      "source": [
        "#fitting model\n",
        "model.fit(X_train,Y_train,epochs=5,validation_data=(X_test,Y_test))"
      ],
      "metadata": {
        "colab": {
          "base_uri": "https://localhost:8080/",
          "height": 432
        },
        "id": "LwU79dLAutTg",
        "outputId": "0e98960a-6147-4063-9859-4a05aa03825e"
      },
      "execution_count": null,
      "outputs": [
        {
          "output_type": "stream",
          "name": "stdout",
          "text": [
            "Train on 60000 samples, validate on 10000 samples\n",
            "WARNING:tensorflow:From /usr/local/lib/python3.7/dist-packages/tensorflow/python/ops/math_ops.py:3066: to_int32 (from tensorflow.python.ops.math_ops) is deprecated and will be removed in a future version.\n",
            "Instructions for updating:\n",
            "Use tf.cast instead.\n",
            "Epoch 1/5\n",
            "19072/60000 [========>.....................] - ETA: 4:12 - loss: 0.3282 - acc: 0.8947"
          ]
        },
        {
          "output_type": "error",
          "ename": "KeyboardInterrupt",
          "evalue": "ignored",
          "traceback": [
            "\u001b[0;31m---------------------------------------------------------------------------\u001b[0m",
            "\u001b[0;31mKeyboardInterrupt\u001b[0m                         Traceback (most recent call last)",
            "\u001b[0;32m<ipython-input-31-e17df65c4432>\u001b[0m in \u001b[0;36m<module>\u001b[0;34m()\u001b[0m\n\u001b[1;32m      1\u001b[0m \u001b[0;31m#fitting model\u001b[0m\u001b[0;34m\u001b[0m\u001b[0;34m\u001b[0m\u001b[0;34m\u001b[0m\u001b[0m\n\u001b[0;32m----> 2\u001b[0;31m \u001b[0mmodel\u001b[0m\u001b[0;34m.\u001b[0m\u001b[0mfit\u001b[0m\u001b[0;34m(\u001b[0m\u001b[0mX_train\u001b[0m\u001b[0;34m,\u001b[0m\u001b[0mY_train\u001b[0m\u001b[0;34m,\u001b[0m\u001b[0mepochs\u001b[0m\u001b[0;34m=\u001b[0m\u001b[0;36m5\u001b[0m\u001b[0;34m,\u001b[0m\u001b[0mvalidation_data\u001b[0m\u001b[0;34m=\u001b[0m\u001b[0;34m(\u001b[0m\u001b[0mX_test\u001b[0m\u001b[0;34m,\u001b[0m\u001b[0mY_test\u001b[0m\u001b[0;34m)\u001b[0m\u001b[0;34m)\u001b[0m\u001b[0;34m\u001b[0m\u001b[0;34m\u001b[0m\u001b[0m\n\u001b[0m",
            "\u001b[0;32m/usr/local/lib/python3.7/dist-packages/tensorflow/python/keras/engine/training.py\u001b[0m in \u001b[0;36mfit\u001b[0;34m(self, x, y, batch_size, epochs, verbose, callbacks, validation_split, validation_data, shuffle, class_weight, sample_weight, initial_epoch, steps_per_epoch, validation_steps, max_queue_size, workers, use_multiprocessing, **kwargs)\u001b[0m\n\u001b[1;32m    878\u001b[0m           \u001b[0minitial_epoch\u001b[0m\u001b[0;34m=\u001b[0m\u001b[0minitial_epoch\u001b[0m\u001b[0;34m,\u001b[0m\u001b[0;34m\u001b[0m\u001b[0;34m\u001b[0m\u001b[0m\n\u001b[1;32m    879\u001b[0m           \u001b[0msteps_per_epoch\u001b[0m\u001b[0;34m=\u001b[0m\u001b[0msteps_per_epoch\u001b[0m\u001b[0;34m,\u001b[0m\u001b[0;34m\u001b[0m\u001b[0;34m\u001b[0m\u001b[0m\n\u001b[0;32m--> 880\u001b[0;31m           validation_steps=validation_steps)\n\u001b[0m\u001b[1;32m    881\u001b[0m \u001b[0;34m\u001b[0m\u001b[0m\n\u001b[1;32m    882\u001b[0m   def evaluate(self,\n",
            "\u001b[0;32m/usr/local/lib/python3.7/dist-packages/tensorflow/python/keras/engine/training_arrays.py\u001b[0m in \u001b[0;36mmodel_iteration\u001b[0;34m(model, inputs, targets, sample_weights, batch_size, epochs, verbose, callbacks, val_inputs, val_targets, val_sample_weights, shuffle, initial_epoch, steps_per_epoch, validation_steps, mode, validation_in_fit, **kwargs)\u001b[0m\n\u001b[1;32m    327\u001b[0m \u001b[0;34m\u001b[0m\u001b[0m\n\u001b[1;32m    328\u001b[0m         \u001b[0;31m# Get outputs.\u001b[0m\u001b[0;34m\u001b[0m\u001b[0;34m\u001b[0m\u001b[0;34m\u001b[0m\u001b[0m\n\u001b[0;32m--> 329\u001b[0;31m         \u001b[0mbatch_outs\u001b[0m \u001b[0;34m=\u001b[0m \u001b[0mf\u001b[0m\u001b[0;34m(\u001b[0m\u001b[0mins_batch\u001b[0m\u001b[0;34m)\u001b[0m\u001b[0;34m\u001b[0m\u001b[0;34m\u001b[0m\u001b[0m\n\u001b[0m\u001b[1;32m    330\u001b[0m         \u001b[0;32mif\u001b[0m \u001b[0;32mnot\u001b[0m \u001b[0misinstance\u001b[0m\u001b[0;34m(\u001b[0m\u001b[0mbatch_outs\u001b[0m\u001b[0;34m,\u001b[0m \u001b[0mlist\u001b[0m\u001b[0;34m)\u001b[0m\u001b[0;34m:\u001b[0m\u001b[0;34m\u001b[0m\u001b[0;34m\u001b[0m\u001b[0m\n\u001b[1;32m    331\u001b[0m           \u001b[0mbatch_outs\u001b[0m \u001b[0;34m=\u001b[0m \u001b[0;34m[\u001b[0m\u001b[0mbatch_outs\u001b[0m\u001b[0;34m]\u001b[0m\u001b[0;34m\u001b[0m\u001b[0;34m\u001b[0m\u001b[0m\n",
            "\u001b[0;32m/usr/local/lib/python3.7/dist-packages/tensorflow/python/keras/backend.py\u001b[0m in \u001b[0;36m__call__\u001b[0;34m(self, inputs)\u001b[0m\n\u001b[1;32m   3074\u001b[0m \u001b[0;34m\u001b[0m\u001b[0m\n\u001b[1;32m   3075\u001b[0m     fetched = self._callable_fn(*array_vals,\n\u001b[0;32m-> 3076\u001b[0;31m                                 run_metadata=self.run_metadata)\n\u001b[0m\u001b[1;32m   3077\u001b[0m     \u001b[0mself\u001b[0m\u001b[0;34m.\u001b[0m\u001b[0m_call_fetch_callbacks\u001b[0m\u001b[0;34m(\u001b[0m\u001b[0mfetched\u001b[0m\u001b[0;34m[\u001b[0m\u001b[0;34m-\u001b[0m\u001b[0mlen\u001b[0m\u001b[0;34m(\u001b[0m\u001b[0mself\u001b[0m\u001b[0;34m.\u001b[0m\u001b[0m_fetches\u001b[0m\u001b[0;34m)\u001b[0m\u001b[0;34m:\u001b[0m\u001b[0;34m]\u001b[0m\u001b[0;34m)\u001b[0m\u001b[0;34m\u001b[0m\u001b[0;34m\u001b[0m\u001b[0m\n\u001b[1;32m   3078\u001b[0m     return nest.pack_sequence_as(self._outputs_structure,\n",
            "\u001b[0;32m/usr/local/lib/python3.7/dist-packages/tensorflow/python/client/session.py\u001b[0m in \u001b[0;36m__call__\u001b[0;34m(self, *args, **kwargs)\u001b[0m\n\u001b[1;32m   1437\u001b[0m           ret = tf_session.TF_SessionRunCallable(\n\u001b[1;32m   1438\u001b[0m               \u001b[0mself\u001b[0m\u001b[0;34m.\u001b[0m\u001b[0m_session\u001b[0m\u001b[0;34m.\u001b[0m\u001b[0m_session\u001b[0m\u001b[0;34m,\u001b[0m \u001b[0mself\u001b[0m\u001b[0;34m.\u001b[0m\u001b[0m_handle\u001b[0m\u001b[0;34m,\u001b[0m \u001b[0margs\u001b[0m\u001b[0;34m,\u001b[0m \u001b[0mstatus\u001b[0m\u001b[0;34m,\u001b[0m\u001b[0;34m\u001b[0m\u001b[0;34m\u001b[0m\u001b[0m\n\u001b[0;32m-> 1439\u001b[0;31m               run_metadata_ptr)\n\u001b[0m\u001b[1;32m   1440\u001b[0m         \u001b[0;32mif\u001b[0m \u001b[0mrun_metadata\u001b[0m\u001b[0;34m:\u001b[0m\u001b[0;34m\u001b[0m\u001b[0;34m\u001b[0m\u001b[0m\n\u001b[1;32m   1441\u001b[0m           \u001b[0mproto_data\u001b[0m \u001b[0;34m=\u001b[0m \u001b[0mtf_session\u001b[0m\u001b[0;34m.\u001b[0m\u001b[0mTF_GetBuffer\u001b[0m\u001b[0;34m(\u001b[0m\u001b[0mrun_metadata_ptr\u001b[0m\u001b[0;34m)\u001b[0m\u001b[0;34m\u001b[0m\u001b[0;34m\u001b[0m\u001b[0m\n",
            "\u001b[0;31mKeyboardInterrupt\u001b[0m: "
          ]
        }
      ]
    },
    {
      "cell_type": "markdown",
      "source": [
        "**Question 3**"
      ],
      "metadata": {
        "id": "Jzqxtz2Nvoig"
      }
    },
    {
      "cell_type": "code",
      "source": [
        "#importing required datasets\n",
        "import numpy as np\n",
        "import pandas as pd\n",
        "import matplotlib.pyplot as plt\n",
        "import seaborn as sns\n",
        "import tensorflow as tf\n",
        "from sklearn.impute import SimpleImputer\n",
        "from sklearn.impute import SimpleImputer\n",
        "from sklearn.metrics import classification_report"
      ],
      "metadata": {
        "id": "RaYmBpX-vuA_"
      },
      "execution_count": null,
      "outputs": []
    },
    {
      "cell_type": "code",
      "source": [
        "df = pd.read_csv('diabetes.csv',index_col=0)\n",
        "df"
      ],
      "metadata": {
        "colab": {
          "base_uri": "https://localhost:8080/",
          "height": 424
        },
        "id": "aB9PBGX-xEX1",
        "outputId": "a251cb1c-84a1-44dd-f24a-75cf37aa1262"
      },
      "execution_count": null,
      "outputs": [
        {
          "output_type": "execute_result",
          "data": {
            "text/html": [
              "<div>\n",
              "<style scoped>\n",
              "    .dataframe tbody tr th:only-of-type {\n",
              "        vertical-align: middle;\n",
              "    }\n",
              "\n",
              "    .dataframe tbody tr th {\n",
              "        vertical-align: top;\n",
              "    }\n",
              "\n",
              "    .dataframe thead th {\n",
              "        text-align: right;\n",
              "    }\n",
              "</style>\n",
              "<table border=\"1\" class=\"dataframe\">\n",
              "  <thead>\n",
              "    <tr style=\"text-align: right;\">\n",
              "      <th></th>\n",
              "      <th>pregnant</th>\n",
              "      <th>glucose</th>\n",
              "      <th>pressure</th>\n",
              "      <th>triceps</th>\n",
              "      <th>insulin</th>\n",
              "      <th>mass</th>\n",
              "      <th>pedigree</th>\n",
              "      <th>age</th>\n",
              "      <th>diabetes</th>\n",
              "    </tr>\n",
              "  </thead>\n",
              "  <tbody>\n",
              "    <tr>\n",
              "      <th>1</th>\n",
              "      <td>6</td>\n",
              "      <td>148.0</td>\n",
              "      <td>72.0</td>\n",
              "      <td>35.0</td>\n",
              "      <td>NaN</td>\n",
              "      <td>33.6</td>\n",
              "      <td>0.627</td>\n",
              "      <td>50</td>\n",
              "      <td>pos</td>\n",
              "    </tr>\n",
              "    <tr>\n",
              "      <th>2</th>\n",
              "      <td>1</td>\n",
              "      <td>85.0</td>\n",
              "      <td>66.0</td>\n",
              "      <td>29.0</td>\n",
              "      <td>NaN</td>\n",
              "      <td>26.6</td>\n",
              "      <td>0.351</td>\n",
              "      <td>31</td>\n",
              "      <td>neg</td>\n",
              "    </tr>\n",
              "    <tr>\n",
              "      <th>3</th>\n",
              "      <td>8</td>\n",
              "      <td>183.0</td>\n",
              "      <td>64.0</td>\n",
              "      <td>NaN</td>\n",
              "      <td>NaN</td>\n",
              "      <td>23.3</td>\n",
              "      <td>0.672</td>\n",
              "      <td>32</td>\n",
              "      <td>pos</td>\n",
              "    </tr>\n",
              "    <tr>\n",
              "      <th>4</th>\n",
              "      <td>1</td>\n",
              "      <td>89.0</td>\n",
              "      <td>66.0</td>\n",
              "      <td>23.0</td>\n",
              "      <td>94.0</td>\n",
              "      <td>28.1</td>\n",
              "      <td>0.167</td>\n",
              "      <td>21</td>\n",
              "      <td>neg</td>\n",
              "    </tr>\n",
              "    <tr>\n",
              "      <th>5</th>\n",
              "      <td>0</td>\n",
              "      <td>137.0</td>\n",
              "      <td>40.0</td>\n",
              "      <td>35.0</td>\n",
              "      <td>168.0</td>\n",
              "      <td>43.1</td>\n",
              "      <td>2.288</td>\n",
              "      <td>33</td>\n",
              "      <td>pos</td>\n",
              "    </tr>\n",
              "    <tr>\n",
              "      <th>...</th>\n",
              "      <td>...</td>\n",
              "      <td>...</td>\n",
              "      <td>...</td>\n",
              "      <td>...</td>\n",
              "      <td>...</td>\n",
              "      <td>...</td>\n",
              "      <td>...</td>\n",
              "      <td>...</td>\n",
              "      <td>...</td>\n",
              "    </tr>\n",
              "    <tr>\n",
              "      <th>764</th>\n",
              "      <td>10</td>\n",
              "      <td>101.0</td>\n",
              "      <td>76.0</td>\n",
              "      <td>48.0</td>\n",
              "      <td>180.0</td>\n",
              "      <td>32.9</td>\n",
              "      <td>0.171</td>\n",
              "      <td>63</td>\n",
              "      <td>neg</td>\n",
              "    </tr>\n",
              "    <tr>\n",
              "      <th>765</th>\n",
              "      <td>2</td>\n",
              "      <td>122.0</td>\n",
              "      <td>70.0</td>\n",
              "      <td>27.0</td>\n",
              "      <td>NaN</td>\n",
              "      <td>36.8</td>\n",
              "      <td>0.340</td>\n",
              "      <td>27</td>\n",
              "      <td>neg</td>\n",
              "    </tr>\n",
              "    <tr>\n",
              "      <th>766</th>\n",
              "      <td>5</td>\n",
              "      <td>121.0</td>\n",
              "      <td>72.0</td>\n",
              "      <td>23.0</td>\n",
              "      <td>112.0</td>\n",
              "      <td>26.2</td>\n",
              "      <td>0.245</td>\n",
              "      <td>30</td>\n",
              "      <td>neg</td>\n",
              "    </tr>\n",
              "    <tr>\n",
              "      <th>767</th>\n",
              "      <td>1</td>\n",
              "      <td>126.0</td>\n",
              "      <td>60.0</td>\n",
              "      <td>NaN</td>\n",
              "      <td>NaN</td>\n",
              "      <td>30.1</td>\n",
              "      <td>0.349</td>\n",
              "      <td>47</td>\n",
              "      <td>pos</td>\n",
              "    </tr>\n",
              "    <tr>\n",
              "      <th>768</th>\n",
              "      <td>1</td>\n",
              "      <td>93.0</td>\n",
              "      <td>70.0</td>\n",
              "      <td>31.0</td>\n",
              "      <td>NaN</td>\n",
              "      <td>30.4</td>\n",
              "      <td>0.315</td>\n",
              "      <td>23</td>\n",
              "      <td>neg</td>\n",
              "    </tr>\n",
              "  </tbody>\n",
              "</table>\n",
              "<p>768 rows × 9 columns</p>\n",
              "</div>"
            ],
            "text/plain": [
              "     pregnant  glucose  pressure  triceps  ...  mass  pedigree  age  diabetes\n",
              "1           6    148.0      72.0     35.0  ...  33.6     0.627   50       pos\n",
              "2           1     85.0      66.0     29.0  ...  26.6     0.351   31       neg\n",
              "3           8    183.0      64.0      NaN  ...  23.3     0.672   32       pos\n",
              "4           1     89.0      66.0     23.0  ...  28.1     0.167   21       neg\n",
              "5           0    137.0      40.0     35.0  ...  43.1     2.288   33       pos\n",
              "..        ...      ...       ...      ...  ...   ...       ...  ...       ...\n",
              "764        10    101.0      76.0     48.0  ...  32.9     0.171   63       neg\n",
              "765         2    122.0      70.0     27.0  ...  36.8     0.340   27       neg\n",
              "766         5    121.0      72.0     23.0  ...  26.2     0.245   30       neg\n",
              "767         1    126.0      60.0      NaN  ...  30.1     0.349   47       pos\n",
              "768         1     93.0      70.0     31.0  ...  30.4     0.315   23       neg\n",
              "\n",
              "[768 rows x 9 columns]"
            ]
          },
          "metadata": {},
          "execution_count": 33
        }
      ]
    },
    {
      "cell_type": "code",
      "source": [
        "#converting pos and neg to 1 and 0 respectively\n",
        "cat_type = pd.CategoricalDtype(categories=['neg','pos'],ordered=True)\n",
        "df.diabetes = df.diabetes.astype(cat_type).cat.codes\n",
        "\n",
        "#plotting corelation matrix\n",
        "sns.heatmap(df.corr(),annot=True)\n",
        "plt.title('Correlation Matrix')\n",
        "plt.show()"
      ],
      "metadata": {
        "colab": {
          "base_uri": "https://localhost:8080/",
          "height": 317
        },
        "id": "eFuueYi2xOOG",
        "outputId": "8beda76a-93bf-4043-ad5d-7bf0a353483b"
      },
      "execution_count": null,
      "outputs": [
        {
          "output_type": "display_data",
          "data": {
            "image/png": "[encoded data removed]",
            "text/plain": [
              "<Figure size 432x288 with 2 Axes>"
            ]
          },
          "metadata": {
            "needs_background": "light"
          }
        }
      ]
    },
    {
      "cell_type": "code",
      "source": [
        "#finding and deleting colunmns which a lorge number of missing values\n",
        "df.isnull().sum()"
      ],
      "metadata": {
        "colab": {
          "base_uri": "https://localhost:8080/"
        },
        "id": "0ZRHlqm0xykp",
        "outputId": "1f9623c1-236e-4fc9-d0fa-c4e042436d46"
      },
      "execution_count": null,
      "outputs": [
        {
          "output_type": "execute_result",
          "data": {
            "text/plain": [
              "pregnant      0\n",
              "glucose       5\n",
              "pressure     35\n",
              "triceps     227\n",
              "insulin     374\n",
              "mass         11\n",
              "pedigree      0\n",
              "age           0\n",
              "diabetes      0\n",
              "dtype: int64"
            ]
          },
          "metadata": {},
          "execution_count": 35
        }
      ]
    },
    {
      "cell_type": "code",
      "source": [
        "df.drop(columns=['triceps','insulin'],inplace=True)\n",
        "df.columns"
      ],
      "metadata": {
        "colab": {
          "base_uri": "https://localhost:8080/"
        },
        "id": "x4fsoElLx-V8",
        "outputId": "86a360eb-c13f-44bb-ea13-bc0a2d41263a"
      },
      "execution_count": null,
      "outputs": [
        {
          "output_type": "execute_result",
          "data": {
            "text/plain": [
              "Index(['pregnant', 'glucose', 'pressure', 'mass', 'pedigree', 'age',\n",
              "       'diabetes'],\n",
              "      dtype='object')"
            ]
          },
          "metadata": {},
          "execution_count": 36
        }
      ]
    },
    {
      "cell_type": "code",
      "source": [
        "#seperation of response variable from rest and replacing missing values with mean of attribute\n",
        "impute = SimpleImputer(strategy='median')\n",
        "data = impute.fit_transform(X)\n",
        "X = pd.DataFrame(data, columns=X.columns)\n",
        "\n",
        "#scaling variables\n",
        "impute = SimpleImputer(strategy='median')\n",
        "data = impute.fit_transform(X)\n",
        "X = pd.DataFrame(data, columns=X.columns)\n",
        "\n",
        "#splitting into train and test\n",
        "X_train, X_test, Y_train, Y_test =  train_test_split(X,Y, train_size=600, random_state=10)\n",
        "\n",
        "#building model\n",
        "def build_model():\n",
        "    model = tf.keras.models.Sequential()\n",
        "\n",
        "    model.add(tf.keras.layers.Dense(units = 64, activation='relu', input_shape = [len(X_train.keys())]))\n",
        "    model.add(tf.keras.layers.Dropout(0.4))\n",
        "    \n",
        "    # Hidden Layer - I\n",
        "    model.add(tf.keras.layers.Dense(units = 128, activation='relu'))\n",
        "    model.add(tf.keras.layers.Dropout(0.4))\n",
        "\n",
        "    # Hidden Layer - II\n",
        "    model.add(tf.keras.layers.Dense(units = 128, activation='relu'))\n",
        "    model.add(tf.keras.layers.Dropout(0.3))\n",
        "\n",
        "    # Output Layer\n",
        "    model.add(tf.keras.layers.Dense(units = 1, activation='sigmoid'))\n",
        "\n",
        "\n",
        "    model.compile(optimizer = 'adam', loss = 'binary_crossentropy', metrics = ['accuracy'])\n",
        "\n",
        "    return model\n",
        "\n",
        "model = build_model()\n",
        "model.summary()\n"
      ],
      "metadata": {
        "colab": {
          "base_uri": "https://localhost:8080/"
        },
        "id": "PJ_N3syUyL8c",
        "outputId": "137ccaa6-83db-4579-d6e7-eef6bb28b5c5"
      },
      "execution_count": null,
      "outputs": [
        {
          "output_type": "stream",
          "name": "stdout",
          "text": [
            "_________________________________________________________________\n",
            "Layer (type)                 Output Shape              Param #   \n",
            "=================================================================\n",
            "dense_2 (Dense)              (None, 64)                448       \n",
            "_________________________________________________________________\n",
            "dropout_1 (Dropout)          (None, 64)                0         \n",
            "_________________________________________________________________\n",
            "dense_3 (Dense)              (None, 128)               8320      \n",
            "_________________________________________________________________\n",
            "dropout_2 (Dropout)          (None, 128)               0         \n",
            "_________________________________________________________________\n",
            "dense_4 (Dense)              (None, 128)               16512     \n",
            "_________________________________________________________________\n",
            "dropout_3 (Dropout)          (None, 128)               0         \n",
            "_________________________________________________________________\n",
            "dense_5 (Dense)              (None, 1)                 129       \n",
            "=================================================================\n",
            "Total params: 25,409\n",
            "Trainable params: 25,409\n",
            "Non-trainable params: 0\n",
            "_________________________________________________________________\n"
          ]
        }
      ]
    },
    {
      "cell_type": "code",
      "source": [
        "#fitting model\n",
        "fit = model.fit(X_train, Y_train, epochs = 50, batch_size = 25, validation_data=(X_test,Y_test))"
      ],
      "metadata": {
        "colab": {
          "base_uri": "https://localhost:8080/"
        },
        "id": "AD_NZbsazX-r",
        "outputId": "a259e73a-9154-4c42-ef46-144060bf3017"
      },
      "execution_count": null,
      "outputs": [
        {
          "output_type": "stream",
          "name": "stdout",
          "text": [
            "Train on 600 samples, validate on 124 samples\n",
            "Epoch 1/50\n",
            "600/600 [==============================] - 0s 635us/sample - loss: 0.6293 - acc: 0.6483 - val_loss: 0.5431 - val_acc: 0.7016\n",
            "Epoch 2/50\n",
            "600/600 [==============================] - 0s 131us/sample - loss: 0.5399 - acc: 0.7150 - val_loss: 0.4430 - val_acc: 0.8145\n",
            "Epoch 3/50\n",
            "600/600 [==============================] - 0s 138us/sample - loss: 0.5012 - acc: 0.7450 - val_loss: 0.4043 - val_acc: 0.8387\n",
            "Epoch 4/50\n",
            "600/600 [==============================] - 0s 114us/sample - loss: 0.4937 - acc: 0.7400 - val_loss: 0.3989 - val_acc: 0.8306\n",
            "Epoch 5/50\n",
            "600/600 [==============================] - 0s 132us/sample - loss: 0.4697 - acc: 0.7483 - val_loss: 0.3905 - val_acc: 0.8387\n",
            "Epoch 6/50\n",
            "600/600 [==============================] - 0s 119us/sample - loss: 0.4943 - acc: 0.7467 - val_loss: 0.3913 - val_acc: 0.8306\n",
            "Epoch 7/50\n",
            "600/600 [==============================] - 0s 131us/sample - loss: 0.4915 - acc: 0.7600 - val_loss: 0.3838 - val_acc: 0.8306\n",
            "Epoch 8/50\n",
            "600/600 [==============================] - 0s 119us/sample - loss: 0.4905 - acc: 0.7600 - val_loss: 0.3882 - val_acc: 0.8226\n",
            "Epoch 9/50\n",
            "600/600 [==============================] - 0s 120us/sample - loss: 0.4888 - acc: 0.7500 - val_loss: 0.3877 - val_acc: 0.8306\n",
            "Epoch 10/50\n",
            "600/600 [==============================] - 0s 128us/sample - loss: 0.4923 - acc: 0.7450 - val_loss: 0.3909 - val_acc: 0.8306\n",
            "Epoch 11/50\n",
            "600/600 [==============================] - 0s 123us/sample - loss: 0.4830 - acc: 0.7550 - val_loss: 0.3939 - val_acc: 0.8226\n",
            "Epoch 12/50\n",
            "600/600 [==============================] - 0s 122us/sample - loss: 0.4908 - acc: 0.7667 - val_loss: 0.3942 - val_acc: 0.8306\n",
            "Epoch 13/50\n",
            "600/600 [==============================] - 0s 144us/sample - loss: 0.4752 - acc: 0.7717 - val_loss: 0.3881 - val_acc: 0.8145\n",
            "Epoch 14/50\n",
            "600/600 [==============================] - 0s 125us/sample - loss: 0.4726 - acc: 0.7667 - val_loss: 0.3838 - val_acc: 0.8226\n",
            "Epoch 15/50\n",
            "600/600 [==============================] - 0s 125us/sample - loss: 0.4659 - acc: 0.7583 - val_loss: 0.3835 - val_acc: 0.8387\n",
            "Epoch 16/50\n",
            "600/600 [==============================] - 0s 120us/sample - loss: 0.4692 - acc: 0.7600 - val_loss: 0.3871 - val_acc: 0.8226\n",
            "Epoch 17/50\n",
            "600/600 [==============================] - 0s 119us/sample - loss: 0.4835 - acc: 0.7567 - val_loss: 0.3850 - val_acc: 0.8226\n",
            "Epoch 18/50\n",
            "600/600 [==============================] - 0s 121us/sample - loss: 0.4864 - acc: 0.7533 - val_loss: 0.3917 - val_acc: 0.8306\n",
            "Epoch 19/50\n",
            "600/600 [==============================] - 0s 138us/sample - loss: 0.4654 - acc: 0.7617 - val_loss: 0.3842 - val_acc: 0.8306\n",
            "Epoch 20/50\n",
            "600/600 [==============================] - 0s 132us/sample - loss: 0.4762 - acc: 0.7683 - val_loss: 0.3828 - val_acc: 0.8226\n",
            "Epoch 21/50\n",
            "600/600 [==============================] - 0s 131us/sample - loss: 0.4695 - acc: 0.7617 - val_loss: 0.3864 - val_acc: 0.8387\n",
            "Epoch 22/50\n",
            "600/600 [==============================] - 0s 125us/sample - loss: 0.4663 - acc: 0.7700 - val_loss: 0.3886 - val_acc: 0.8306\n",
            "Epoch 23/50\n",
            "600/600 [==============================] - 0s 130us/sample - loss: 0.4693 - acc: 0.7583 - val_loss: 0.3940 - val_acc: 0.8306\n",
            "Epoch 24/50\n",
            "600/600 [==============================] - 0s 141us/sample - loss: 0.4901 - acc: 0.7667 - val_loss: 0.3996 - val_acc: 0.8306\n",
            "Epoch 25/50\n",
            "600/600 [==============================] - 0s 160us/sample - loss: 0.4702 - acc: 0.7633 - val_loss: 0.4011 - val_acc: 0.8387\n",
            "Epoch 26/50\n",
            "600/600 [==============================] - 0s 139us/sample - loss: 0.4739 - acc: 0.7517 - val_loss: 0.3973 - val_acc: 0.8306\n",
            "Epoch 27/50\n",
            "600/600 [==============================] - 0s 125us/sample - loss: 0.4725 - acc: 0.7783 - val_loss: 0.3932 - val_acc: 0.8387\n",
            "Epoch 28/50\n",
            "600/600 [==============================] - 0s 145us/sample - loss: 0.4554 - acc: 0.7717 - val_loss: 0.3887 - val_acc: 0.8306\n",
            "Epoch 29/50\n",
            "600/600 [==============================] - 0s 125us/sample - loss: 0.4636 - acc: 0.7950 - val_loss: 0.3876 - val_acc: 0.8226\n",
            "Epoch 30/50\n",
            "600/600 [==============================] - 0s 123us/sample - loss: 0.4644 - acc: 0.7633 - val_loss: 0.3847 - val_acc: 0.8548\n",
            "Epoch 31/50\n",
            "600/600 [==============================] - 0s 136us/sample - loss: 0.4652 - acc: 0.7767 - val_loss: 0.3860 - val_acc: 0.8306\n",
            "Epoch 32/50\n",
            "600/600 [==============================] - 0s 136us/sample - loss: 0.4690 - acc: 0.7650 - val_loss: 0.3855 - val_acc: 0.8468\n",
            "Epoch 33/50\n",
            "600/600 [==============================] - 0s 125us/sample - loss: 0.4514 - acc: 0.7767 - val_loss: 0.3911 - val_acc: 0.8306\n",
            "Epoch 34/50\n",
            "600/600 [==============================] - 0s 121us/sample - loss: 0.4553 - acc: 0.7783 - val_loss: 0.3885 - val_acc: 0.8306\n",
            "Epoch 35/50\n",
            "600/600 [==============================] - 0s 132us/sample - loss: 0.4866 - acc: 0.7583 - val_loss: 0.3972 - val_acc: 0.8468\n",
            "Epoch 36/50\n",
            "600/600 [==============================] - 0s 134us/sample - loss: 0.4623 - acc: 0.7733 - val_loss: 0.3920 - val_acc: 0.8387\n",
            "Epoch 37/50\n",
            "600/600 [==============================] - 0s 134us/sample - loss: 0.4492 - acc: 0.7717 - val_loss: 0.3927 - val_acc: 0.8306\n",
            "Epoch 38/50\n",
            "600/600 [==============================] - 0s 121us/sample - loss: 0.4640 - acc: 0.7617 - val_loss: 0.3951 - val_acc: 0.8306\n",
            "Epoch 39/50\n",
            "600/600 [==============================] - 0s 135us/sample - loss: 0.4606 - acc: 0.7667 - val_loss: 0.3911 - val_acc: 0.8468\n",
            "Epoch 40/50\n",
            "600/600 [==============================] - 0s 122us/sample - loss: 0.4440 - acc: 0.7767 - val_loss: 0.3892 - val_acc: 0.8468\n",
            "Epoch 41/50\n",
            "600/600 [==============================] - 0s 118us/sample - loss: 0.4465 - acc: 0.7767 - val_loss: 0.3879 - val_acc: 0.8548\n",
            "Epoch 42/50\n",
            "600/600 [==============================] - 0s 118us/sample - loss: 0.4630 - acc: 0.7783 - val_loss: 0.3916 - val_acc: 0.8387\n",
            "Epoch 43/50\n",
            "600/600 [==============================] - 0s 123us/sample - loss: 0.4640 - acc: 0.7617 - val_loss: 0.3967 - val_acc: 0.8468\n",
            "Epoch 44/50\n",
            "600/600 [==============================] - 0s 127us/sample - loss: 0.4370 - acc: 0.7750 - val_loss: 0.3875 - val_acc: 0.8468\n",
            "Epoch 45/50\n",
            "600/600 [==============================] - 0s 122us/sample - loss: 0.4560 - acc: 0.7583 - val_loss: 0.3893 - val_acc: 0.8468\n",
            "Epoch 46/50\n",
            "600/600 [==============================] - 0s 125us/sample - loss: 0.4431 - acc: 0.7767 - val_loss: 0.3886 - val_acc: 0.8548\n",
            "Epoch 47/50\n",
            "600/600 [==============================] - 0s 136us/sample - loss: 0.4474 - acc: 0.7617 - val_loss: 0.3954 - val_acc: 0.8548\n",
            "Epoch 48/50\n",
            "600/600 [==============================] - 0s 118us/sample - loss: 0.4499 - acc: 0.7783 - val_loss: 0.3867 - val_acc: 0.8548\n",
            "Epoch 49/50\n",
            "600/600 [==============================] - 0s 131us/sample - loss: 0.4431 - acc: 0.7750 - val_loss: 0.3916 - val_acc: 0.8387\n",
            "Epoch 50/50\n",
            "600/600 [==============================] - 0s 160us/sample - loss: 0.4541 - acc: 0.7817 - val_loss: 0.3971 - val_acc: 0.8387\n"
          ]
        }
      ]
    },
    {
      "cell_type": "code",
      "source": [
        "#plotting accuracy of model\n",
        "data = pd.DataFrame(fit.history)\n",
        "data.index = np.arange(1,len(data)+1)\n",
        "sns.relplot(data=data[['acc','val_acc']], kind='line')\n",
        "plt.title('Model Accuracy')\n",
        "plt.xlabel('Epochs')\n",
        "plt.grid()\n",
        "plt.show()"
      ],
      "metadata": {
        "colab": {
          "base_uri": "https://localhost:8080/",
          "height": 385
        },
        "id": "8cVqzPS_0dVH",
        "outputId": "b46b56a5-c4b7-4a55-f939-1c6141d7f7e0"
      },
      "execution_count": null,
      "outputs": [
        {
          "output_type": "display_data",
          "data": {
            "image/png": "[encoded data removed]",
            "text/plain": [
              "<Figure size 433x360 with 1 Axes>"
            ]
          },
          "metadata": {
            "needs_background": "light"
          }
        }
      ]
    },
    {
      "cell_type": "code",
      "source": [
        "#classification report\n",
        "pred = np.round(model.predict(X_test))\n",
        "print(classification_report(Y_test, pred))"
      ],
      "metadata": {
        "colab": {
          "base_uri": "https://localhost:8080/"
        },
        "id": "RkDYCaI_1ejg",
        "outputId": "592d665a-edcc-4417-fc48-7d0236d4dc8b"
      },
      "execution_count": null,
      "outputs": [
        {
          "output_type": "stream",
          "name": "stdout",
          "text": [
            "              precision    recall  f1-score   support\n",
            "\n",
            "           0       0.85      0.91      0.88        81\n",
            "           1       0.81      0.70      0.75        43\n",
            "\n",
            "    accuracy                           0.84       124\n",
            "   macro avg       0.83      0.81      0.82       124\n",
            "weighted avg       0.84      0.84      0.84       124\n",
            "\n"
          ]
        }
      ]
    }
  ]
}